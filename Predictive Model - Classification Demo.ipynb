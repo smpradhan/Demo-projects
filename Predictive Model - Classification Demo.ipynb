{
 "cells": [
  {
   "cell_type": "markdown",
   "metadata": {
    "button": false,
    "new_sheet": false,
    "run_control": {
     "read_only": false
    }
   },
   "source": [
    "# Classification Demo"
   ]
  },
  {
   "cell_type": "markdown",
   "metadata": {},
   "source": [
    "The goal of this demo project is to build a predictive model to classify test-instances into \"M\" and \"R\" classes. It involves following steps: reading dummy datasets in CSV and XML formats, merging them, processing, and model building. Model building involves feature selection and hyperparamenter tuning using cross-validation, and evaluation of performance metrics."
   ]
  },
  {
   "cell_type": "code",
   "execution_count": 1,
   "metadata": {},
   "outputs": [],
   "source": [
    "import pandas as pd\n",
    "import os\n",
    "import numpy as np\n",
    "import lxml\n",
    "import xml.etree.cElementTree as et\n",
    "import seaborn as sns\n",
    "import matplotlib.pyplot as plt\n",
    "from sklearn.model_selection import train_test_split\n",
    "from sklearn.preprocessing import MinMaxScaler\n",
    "from sklearn.pipeline import Pipeline\n",
    "from sklearn.ensemble import RandomForestClassifier\n",
    "from sklearn.model_selection import RandomizedSearchCV\n",
    "from sklearn.calibration import CalibratedClassifierCV\n",
    "from sklearn.model_selection import cross_val_predict, cross_validate, cross_val_score\n",
    "from sklearn import metrics"
   ]
  },
  {
   "cell_type": "code",
   "execution_count": 2,
   "metadata": {},
   "outputs": [],
   "source": [
    "# Read data in XML format\n",
    "def read_xml(path):\n",
    "    xml = et.parse(path)# row = rows[1]\n",
    "    df = []\n",
    "    for row in xml.getroot():\n",
    "        dic = {}\n",
    "        for r in row:\n",
    "            dic[r.tag] = r.text\n",
    "        df.append(dic)\n",
    "    df = pd.DataFrame(df)\n",
    "    return df"
   ]
  },
  {
   "cell_type": "code",
   "execution_count": 3,
   "metadata": {
    "button": false,
    "new_sheet": false,
    "run_control": {
     "read_only": false
    }
   },
   "outputs": [],
   "source": [
    "DATA_DIRECTORY = \"./dataset\"\n",
    "\n",
    "# Read data in CSV and XML format\n",
    "df1 = pd.read_csv(os.path.join(DATA_DIRECTORY, \"data1.csv\"), na_values = [\"NA\"])\n",
    "df2 = read_xml(os.path.join(DATA_DIRECTORY, \"data2.xml\"))\n",
    "df3 = pd.read_json(os.path.join(DATA_DIRECTORY, \"data3.json\"))"
   ]
  },
  {
   "cell_type": "code",
   "execution_count": 4,
   "metadata": {
    "scrolled": true
   },
   "outputs": [],
   "source": [
    "def preprocess(df):\n",
    "    \"\"\"\n",
    "    Carries out minimal cleaning of dataset to fill missing values with NAN and convert\n",
    "    feature columns to numberic data (if it is not already numeric).\n",
    "    \"\"\"\n",
    "    df.fillna(np.nan, inplace=True)\n",
    "    df.replace(\"NA\", np.nan, inplace=True)\n",
    "\n",
    "    for col in df.columns[df.columns != \"Class\"]:\n",
    "        df[col] = pd.to_numeric(df[col])\n",
    "    return df\n",
    "\n",
    "df1 = preprocess(df1)\n",
    "df2 = preprocess(df2)\n",
    "df3 = preprocess(df3)"
   ]
  },
  {
   "cell_type": "code",
   "execution_count": 5,
   "metadata": {
    "button": false,
    "new_sheet": false,
    "run_control": {
     "read_only": false
    }
   },
   "outputs": [
    {
     "name": "stdout",
     "output_type": "stream",
     "text": [
      "Number of rows in merged dataset 208\n",
      "Number of columns in merged dataset 62\n"
     ]
    }
   ],
   "source": [
    "# Join datasets along column\n",
    "df = pd.merge(df1, df2, on= \"ID\")\n",
    "df = pd.merge(df, df3, on= \"ID\")\n",
    "\n",
    "print(\"Number of rows in merged dataset\",df.shape[0])\n",
    "print(\"Number of columns in merged dataset\",df.shape[1])"
   ]
  },
  {
   "cell_type": "code",
   "execution_count": 6,
   "metadata": {
    "button": false,
    "new_sheet": false,
    "run_control": {
     "read_only": false
    }
   },
   "outputs": [
    {
     "name": "stdout",
     "output_type": "stream",
     "text": [
      "Number of rows in new dataset:  203\n"
     ]
    }
   ],
   "source": [
    "# Drop rows with missing data (i.e. no imputation)\n",
    "df.dropna(inplace=True)\n",
    "print(\"Number of rows in new dataset: \", len(df))"
   ]
  },
  {
   "cell_type": "code",
   "execution_count": 7,
   "metadata": {
    "button": false,
    "new_sheet": false,
    "run_control": {
     "read_only": false
    }
   },
   "outputs": [
    {
     "name": "stdout",
     "output_type": "stream",
     "text": [
      "Percentage of rows containing “M” vs “R” in the Class attribute:\n"
     ]
    },
    {
     "data": {
      "text/plain": [
       "M    52.70936\n",
       "R    47.29064\n",
       "Name: Class, dtype: float64"
      ]
     },
     "execution_count": 7,
     "metadata": {},
     "output_type": "execute_result"
    }
   ],
   "source": [
    "print(\"Percentage of rows containing “M” vs “R” in the Class attribute:\")\n",
    "df['Class'].value_counts() *100.0 /len(df) "
   ]
  },
  {
   "cell_type": "markdown",
   "metadata": {
    "button": false,
    "new_sheet": false,
    "run_control": {
     "read_only": false
    }
   },
   "source": [
    "### Exploratory Analysis"
   ]
  },
  {
   "cell_type": "markdown",
   "metadata": {},
   "source": [
    "Some exploratory analysis"
   ]
  },
  {
   "cell_type": "code",
   "execution_count": 8,
   "metadata": {
    "button": false,
    "new_sheet": false,
    "run_control": {
     "read_only": false
    }
   },
   "outputs": [
    {
     "data": {
      "image/png": "[encoded data removed]",
      "text/plain": [
       "<Figure size 432x288 with 1 Axes>"
      ]
     },
     "metadata": {
      "needs_background": "light"
     },
     "output_type": "display_data"
    }
   ],
   "source": [
    "plt.hist(df['V17'], bins= None)\n",
    "plt.xlabel('V17')\n",
    "plt.show()"
   ]
  },
  {
   "cell_type": "code",
   "execution_count": 9,
   "metadata": {
    "button": false,
    "new_sheet": false,
    "run_control": {
     "read_only": false
    }
   },
   "outputs": [
    {
     "data": {
      "text/plain": [
       "<matplotlib.axes._subplots.AxesSubplot at 0x1226c8630>"
      ]
     },
     "execution_count": 9,
     "metadata": {},
     "output_type": "execute_result"
    },
    {
     "data": {
      "image/png": "[encoded data removed]",
      "text/plain": [
       "<Figure size 432x288 with 1 Axes>"
      ]
     },
     "metadata": {
      "needs_background": "light"
     },
     "output_type": "display_data"
    }
   ],
   "source": [
    "sns.boxplot(x = df['V17'], y = df['Class'])"
   ]
  },
  {
   "cell_type": "code",
   "execution_count": 10,
   "metadata": {
    "button": false,
    "new_sheet": false,
    "run_control": {
     "read_only": false
    }
   },
   "outputs": [
    {
     "data": {
      "text/plain": [
       "<matplotlib.axes._subplots.AxesSubplot at 0x111960b70>"
      ]
     },
     "execution_count": 10,
     "metadata": {},
     "output_type": "execute_result"
    },
    {
     "data": {
      "image/png": "[encoded data removed]",
      "text/plain": [
       "<Figure size 432x288 with 1 Axes>"
      ]
     },
     "metadata": {
      "needs_background": "light"
     },
     "output_type": "display_data"
    }
   ],
   "source": [
    "sns.scatterplot(x=\"V17\", y=\"V18\", hue=\"Class\", data=df)"
   ]
  },
  {
   "cell_type": "markdown",
   "metadata": {},
   "source": [
    "# ML Model"
   ]
  },
  {
   "cell_type": "code",
   "execution_count": 11,
   "metadata": {
    "button": false,
    "new_sheet": false,
    "run_control": {
     "read_only": false
    }
   },
   "outputs": [],
   "source": [
    "def select_important_features(X_train, y_train, rfc = None):\n",
    "    \"\"\"\n",
    "    Tree based feature selection.\n",
    "    \n",
    "    Features are selected based on the median feature_importances_ values of 10 estimators\n",
    "    output by 10-fold cross validation of the training data.\n",
    "    \n",
    "    Parameters\n",
    "    ----------\n",
    "    X_train : pandas dataframe, shape (n_samples, n_features)\n",
    "              Training data.\n",
    "    \n",
    "    y_train : pandas dataframe, shape (n_samples)\n",
    "            Target data.\n",
    "\n",
    "    feature_names: list of all features the dataset\n",
    "    \n",
    "    Returns\n",
    "    -------\n",
    "    df : pandas dataframe consisting of extracted features\n",
    "    \"\"\"\n",
    "    rfc = RandomForestClassifier(n_estimators=30, n_jobs=6)\n",
    "    scores_train_cv = cross_validate(rfc, X_train, y_train, cv =10, n_jobs = 6, return_estimator = True,\n",
    "                                 scoring = ['accuracy', 'precision', 'recall', 'roc_auc'],\n",
    "                                    return_train_score=True)\n",
    "    \n",
    "    \n",
    "    cv_metrics = {'cv'+k[4:]: scores_train_cv[k].mean() for k in ['test_accuracy', 'test_precision', \n",
    "                                                                  'test_recall', 'test_roc_auc']}\n",
    "    cv_metrics_train = {'cv'+k[4:]: scores_train_cv[k].mean() for k in ['train_accuracy', 'train_precision', \n",
    "                                                                  'train_recall', 'train_roc_auc']}\n",
    "\n",
    "    # Compile important features\n",
    "    important_features = []\n",
    "    for est in scores_train_cv['estimator']:\n",
    "        important_features.append(est.feature_importances_)\n",
    "\n",
    "    important_features = pd.DataFrame(important_features, columns= X_train.columns).T.mean(axis =1)\n",
    "    important_features.sort_values(ascending=False, inplace=True)\n",
    "    return important_features, cv_metrics, cv_metrics_train\n",
    "\n",
    "\n",
    "def hyperparameter_tuning(X_train, y_train):\n",
    "    \"\"\"\n",
    "    Randomized Search\n",
    "    \n",
    "    Hyperparameter tuning and selection of the best model using Randomized Search\n",
    "    Parameters\n",
    "    ----------\n",
    "    X_train : array-like, shape (n_samples, n_features)\n",
    "              Training data.\n",
    "    \n",
    "    y_train : array-like, shape (n_samples)\n",
    "    \n",
    "    Returns\n",
    "    -------\n",
    "    rand_search : object\n",
    "    \"\"\"\n",
    "    param_rand = {'n_estimators': [80], \n",
    "                  'min_samples_split' : [15, 20, 30, 40],\n",
    "                  'max_features': [10, 20, 30],\n",
    "                  'max_depth': [ 3, 5, 7, 10, 20, 30]}\n",
    "\n",
    "    # Randomized search using 10-fold cross validation\n",
    "    clf = RandomForestClassifier(n_jobs=6)\n",
    "    rand_search = RandomizedSearchCV(clf, param_rand, scoring = 'roc_auc', cv = 10, n_jobs=6)\n",
    "    rand_search.fit(X_train, y_train)\n",
    "    return rand_search\n",
    "\n",
    "def evaluate_model_on_test_set(rfc, X_test, y_test, results_dir = os.path.join(\".\", \"results\")):\n",
    "    '''\n",
    "    Testing\n",
    "    \n",
    "    Evaluate model on test set (out of sample data)\n",
    "    \n",
    "    Parameters\n",
    "    ----------\n",
    "    X_test : array-like, shape (n_samples, n_features)\n",
    "              Testing data.\n",
    "    \n",
    "    y_test : array-like, shape (n_samples)\n",
    "             Target\n",
    "    \n",
    "    Returns\n",
    "    -------\n",
    "    results_dict : dict of performance metrics\n",
    "    \"\"\"\n",
    "    \n",
    "    '''\n",
    "    y_test_pred = rfc.predict_proba(X_test)\n",
    "    file_name = os.path.join(results_dir, 'performance_metrics.json')\n",
    "    \n",
    "    # Confusion matrix\n",
    "    conf_mat = metrics.confusion_matrix(y_test, y_test_pred[:, 1] > 0.5)\n",
    "    print()\n",
    "    print(\"Confusion Matrix:\")\n",
    "    print(\"-------------------\")\n",
    "    print(conf_mat, \"\\n\")\n",
    "    \n",
    "    tn, fp, fn, tp = conf_mat.ravel()\n",
    "\n",
    "    # Compute metrics\n",
    "    results_dict = {'ROC AUC': metrics.roc_auc_score(y_test, y_test_pred[:,1]),\n",
    "                    'Accuracy': metrics.accuracy_score(y_test, y_test_pred[:, 1] > 0.5),\n",
    "                    'Precision': metrics.precision_score(y_test, y_test_pred[:,1]>0.5),\n",
    "                    'Recall': metrics.recall_score(y_test, y_test_pred[:,1]>0.5),\n",
    "                    'Specificity' : 1.0*tn/(tn + fp),\n",
    "                    'F1 score':  metrics.f1_score(y_test, y_test_pred[:,1]>0.5)}\n",
    "    \n",
    "    print('Performance Metrics')\n",
    "    print('===================')\n",
    "    for key, value in results_dict.items():\n",
    "        print(key, ':', value)\n",
    "    \n",
    "    # Plot ROC curve\n",
    "    fpr, tpr, thresholds = metrics.roc_curve(y_test, y_test_pred[:,1])\n",
    "    f1 = plt.figure()\n",
    "    plt.plot(fpr, tpr,  'k')\n",
    "    plt.plot([0,1], [0,1], 'r--')\n",
    "    plt.xlabel('False Positive Rate')\n",
    "    plt.ylabel('True Positive Rate')\n",
    "    plt.title('ROC AUC = '+ str(results_dict['ROC AUC'])[0:6])\n",
    "    plt.savefig( os.path.join(results_dir, 'roc_auc.png'))\n",
    "    plt.show()\n",
    "    \n",
    "    # Precision-recall curve\n",
    "    precisions, recall, thresholds = metrics.precision_recall_curve(y_test, y_test_pred[:,1])\n",
    "    f1_score = 2.0/(1.0/(precisions + 0.0001) + 1.0/(recall + 0.0001))\n",
    "    f2_score = (2.0**2 + 1.0)/(1.0/(precisions + 0.0001) + 2.0**2/(recall + 0.0001))\n",
    "    f2 = plt.figure()\n",
    "    plt.plot(thresholds, precisions[:-1], 'g-', label = \"Precision\")\n",
    "    plt.plot(thresholds, recall[:-1],  'b-', label = \"Recall\")\n",
    "    plt.plot(thresholds, f1_score[:-1],  'r--', label = \"F1 Score\")\n",
    "    plt.plot(thresholds, f2_score[:-1],  'k--', label = \"F2 Score\")\n",
    "    plt.xlabel(\"Threshold\")\n",
    "    plt.legend(loc = \"lower left\")\n",
    "    plt.savefig( os.path.join(results_dir, 'precision_recall.png'))\n",
    "    plt.show()\n"
   ]
  },
  {
   "cell_type": "code",
   "execution_count": 12,
   "metadata": {},
   "outputs": [],
   "source": [
    "df_copy = df.copy()\n",
    "#df_copy = df_copy.sample(frac=1)\n",
    "df_copy.index = df_copy['ID']\n",
    "df_copy.drop('ID', inplace=True, axis =1)\n",
    "X = df_copy.drop('Class', axis =1)\n",
    "\n",
    "# Considering 'R' to be positive class and 'M' to to be negative\n",
    "y = df_copy['Class'].apply(lambda x: 1 if x == \"R\" else 0)"
   ]
  },
  {
   "cell_type": "code",
   "execution_count": 13,
   "metadata": {},
   "outputs": [],
   "source": [
    "# Split data into train and test set\n",
    "X_train, X_test, y_train, y_test = train_test_split(X, y, \n",
    "                                                    stratify = y, test_size = 0.3,shuffle = True, random_state = 130)"
   ]
  },
  {
   "cell_type": "code",
   "execution_count": 14,
   "metadata": {
    "scrolled": false
   },
   "outputs": [],
   "source": [
    "# Select important features\n",
    "important_features, cv_metrics, cv_metrics_train = select_important_features(X_train, y_train)\n",
    "\n",
    "top_10_features = important_features[0:10].index.values.tolist()\n",
    "X_train_sel_10 = X_train[top_10_features]\n",
    "X_test_sel_10 = X_test[top_10_features]"
   ]
  },
  {
   "cell_type": "code",
   "execution_count": 15,
   "metadata": {
    "button": false,
    "new_sheet": false,
    "run_control": {
     "read_only": false
    }
   },
   "outputs": [],
   "source": [
    "# Select features with \"feature importance\" better than the median value (i.e. 30 out of 60 features)\n",
    "top_30_features = important_features[important_features >= important_features.median()].index.values.tolist()\n",
    "\n",
    "# Create train and test datasets based on selected features\n",
    "X_train_sel_30 = X_train[top_30_features]\n",
    "X_test_sel_30 = X_test[top_30_features]"
   ]
  },
  {
   "cell_type": "code",
   "execution_count": 16,
   "metadata": {
    "button": false,
    "new_sheet": false,
    "run_control": {
     "read_only": false
    }
   },
   "outputs": [
    {
     "name": "stderr",
     "output_type": "stream",
     "text": [
      "/Users/user1/Envs/py367/lib/python3.6/site-packages/sklearn/model_selection/_search.py:841: DeprecationWarning: The default of the `iid` parameter will change from True to False in version 0.22 and will be removed in 0.24. This will change numeric results when test-set sizes are unequal.\n",
      "  DeprecationWarning)\n"
     ]
    }
   ],
   "source": [
    "# Hyperparameter tuning\n",
    "clf = hyperparameter_tuning(X_train_sel_30, y_train)\n",
    "clf = clf.best_estimator_"
   ]
  },
  {
   "cell_type": "code",
   "execution_count": 17,
   "metadata": {
    "button": false,
    "new_sheet": false,
    "run_control": {
     "read_only": false
    }
   },
   "outputs": [
    {
     "name": "stdout",
     "output_type": "stream",
     "text": [
      "\n",
      "Confusion Matrix:\n",
      "-------------------\n",
      "[[26  6]\n",
      " [ 8 21]] \n",
      "\n",
      "Performance Metrics\n",
      "===================\n",
      "ROC AUC : 0.8448275862068966\n",
      "Accuracy : 0.7704918032786885\n",
      "Precision : 0.7777777777777778\n",
      "Recall : 0.7241379310344828\n",
      "Specificity : 0.8125\n",
      "F1 score : 0.75\n"
     ]
    },
    {
     "data": {
      "image/png": "[encoded data removed]",
      "text/plain": [
       "<Figure size 432x288 with 1 Axes>"
      ]
     },
     "metadata": {
      "needs_background": "light"
     },
     "output_type": "display_data"
    },
    {
     "data": {
      "image/png": "[encoded data removed]",
      "text/plain": [
       "<Figure size 432x288 with 1 Axes>"
      ]
     },
     "metadata": {
      "needs_background": "light"
     },
     "output_type": "display_data"
    }
   ],
   "source": [
    "# Performance metrics on Test Data\n",
    "evaluate_model_on_test_set(clf, X_test_sel_30, y_test)"
   ]
  },
  {
   "cell_type": "markdown",
   "metadata": {
    "button": false,
    "new_sheet": false,
    "run_control": {
     "read_only": false
    }
   },
   "source": [
    "*The ROC AUC of this model trained using 30 features is 0.89, which is a pretty good. There is some room for improving recall by using lower probability threshold, while sacrificing a little bit of precision. Furthermore, there is overfitting in the model as indicated by the higher performance metrics on \"Training Data\" (see below). The overfitting can be addressed by further hyperparamer tuning and/or more data (note that train dataset has only 142 examples).*"
   ]
  },
  {
   "cell_type": "code",
   "execution_count": 18,
   "metadata": {
    "button": false,
    "new_sheet": false,
    "run_control": {
     "read_only": false
    },
    "scrolled": false
   },
   "outputs": [
    {
     "name": "stdout",
     "output_type": "stream",
     "text": [
      "\n",
      "Confusion Matrix:\n",
      "-------------------\n",
      "[[75  0]\n",
      " [ 0 67]] \n",
      "\n",
      "Performance Metrics\n",
      "===================\n",
      "ROC AUC : 1.0\n",
      "Accuracy : 1.0\n",
      "Precision : 1.0\n",
      "Recall : 1.0\n",
      "Specificity : 1.0\n",
      "F1 score : 1.0\n"
     ]
    },
    {
     "data": {
      "image/png": "[encoded data removed]",
      "text/plain": [
       "<Figure size 432x288 with 1 Axes>"
      ]
     },
     "metadata": {
      "needs_background": "light"
     },
     "output_type": "display_data"
    },
    {
     "data": {
      "image/png": "[encoded data removed]",
      "text/plain": [
       "<Figure size 432x288 with 1 Axes>"
      ]
     },
     "metadata": {
      "needs_background": "light"
     },
     "output_type": "display_data"
    }
   ],
   "source": [
    "# Performance metrics on TRAIN Data\n",
    "evaluate_model_on_test_set(clf, X_train_sel_30, y_train)"
   ]
  },
  {
   "cell_type": "code",
   "execution_count": null,
   "metadata": {
    "button": false,
    "new_sheet": false,
    "run_control": {
     "read_only": false
    }
   },
   "outputs": [],
   "source": []
  },
  {
   "cell_type": "code",
   "execution_count": null,
   "metadata": {},
   "outputs": [],
   "source": []
  },
  {
   "cell_type": "code",
   "execution_count": null,
   "metadata": {},
   "outputs": [],
   "source": []
  }
 ],
 "metadata": {
  "kernelspec": {
   "display_name": "Python 3",
   "language": "python",
   "name": "python3"
  },
  "language_info": {
   "codemirror_mode": {
    "name": "ipython",
    "version": 3
   },
   "file_extension": ".py",
   "mimetype": "text/x-python",
   "name": "python",
   "nbconvert_exporter": "python",
   "pygments_lexer": "ipython3",
   "version": "3.6.7"
  }
 },
 "nbformat": 4,
 "nbformat_minor": 2
}
